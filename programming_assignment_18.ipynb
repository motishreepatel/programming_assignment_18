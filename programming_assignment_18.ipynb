{
 "cells": [
  {
   "cell_type": "code",
   "execution_count": 1,
   "metadata": {},
   "outputs": [
    {
     "name": "stdout",
     "output_type": "stream",
     "text": [
      "[1, 2]\n"
     ]
    }
   ],
   "source": [
    "#Q - Question 1: Create a function that takes a list of non-negative integers and strings and return a new list without the strings.\n",
    "#Answer:\n",
    "def filter_non_negative_integers(lst):\n",
    "    new_lst = [num for num in lst if isinstance(num, int) and num >= 0]\n",
    "    return new_lst\n",
    "\n",
    "# Example usage:\n",
    "my_list = [1, 2, \"a\", \"b\"]\n",
    "filtered_list = filter_non_negative_integers(my_list)\n",
    "print(filtered_list)\n"
   ]
  },
  {
   "cell_type": "code",
   "execution_count": 3,
   "metadata": {},
   "outputs": [
    {
     "name": "stdout",
     "output_type": "stream",
     "text": [
      "DLROw OLLEh\n"
     ]
    }
   ],
   "source": [
    "#Q - Question 2- The &quot;Reverser&quot; takes a string as input and returns that string in reverse order, with the opposite case.\n",
    "#Answer:\n",
    "def reverser(string):\n",
    "    reversed_string = string[::-1]  # Reverse the string\n",
    "    reversed_string = reversed_string.swapcase()  # Convert the case of each character\n",
    "    return reversed_string\n",
    "\n",
    "# Example usage:\n",
    "input_string = \"Hello World\"\n",
    "reversed_output = reverser(input_string)\n",
    "print(reversed_output)\n"
   ]
  },
  {
   "cell_type": "code",
   "execution_count": 4,
   "metadata": {},
   "outputs": [
    {
     "name": "stdout",
     "output_type": "stream",
     "text": [
      "1\n",
      "[2, 3, 4, 5]\n",
      "6\n"
     ]
    }
   ],
   "source": [
    "#Q - Question3:\n",
    "'''You can assign variables from lists like this:\n",
    "lst = [1, 2, 3, 4, 5, 6]\n",
    "first = lst[0]\n",
    "middle = lst[1:-1]\n",
    "last = lst[-1]\n",
    "print(first) ➞ outputs 1\n",
    "print(middle) ➞ outputs [2, 3, 4, 5]\n",
    "print(last) ➞ outputs 6\n",
    "With Python 3, you can assign variables from lists in a much more succinct way. Create\n",
    "variables first, middle and last from the given list using destructuring assignment\n",
    "(check the Resources tab for some examples), where:\n",
    "first ➞ 1\n",
    "middle ➞ [2, 3, 4, 5]\n",
    "last ➞ 6\n",
    "\n",
    "Your task is to unpack the list writeyourcodehere into three variables, being first,\n",
    "middle, and last, with middle being everything in between the first and last element. Then\n",
    "print all three variables.'''   \n",
    "\n",
    "#Answer:\n",
    "lst = [1, 2, 3, 4, 5, 6]\n",
    "\n",
    "first, *middle, last = lst\n",
    "\n",
    "print(first)\n",
    "print(middle)\n",
    "print(last)\n"
   ]
  },
  {
   "cell_type": "code",
   "execution_count": 7,
   "metadata": {},
   "outputs": [
    {
     "name": "stdout",
     "output_type": "stream",
     "text": [
      "factorial of num is:  120\n"
     ]
    }
   ],
   "source": [
    "#Q - Question 4: Write a function that calculates the factorial of a number recursively.\n",
    "#Answer:\n",
    "def factorial(n):\n",
    "    if n==0 or n==1:\n",
    "        return 1\n",
    "    else:\n",
    "        return n*factorial(n-1)\n",
    "\n",
    "num = int(input(\"Enter a number: \"))\n",
    "print(\"factorial of num is: \",factorial(num))\n"
   ]
  },
  {
   "cell_type": "code",
   "execution_count": 10,
   "metadata": {},
   "outputs": [
    {
     "name": "stdout",
     "output_type": "stream",
     "text": [
      "[1, 2, 3, 4, <class 'str'>, <class 'str'>, <class 'str'>, <class 'str'>]\n"
     ]
    }
   ],
   "source": [
    "#Q - Question5: Write a function that moves all elements of one type to the end of the list.\n",
    "#Andef move_elements_to_end(lst, element_type):\n",
    "def move_elements_to_end(lst, element_type):\n",
    "    result = []\n",
    "    count = 0\n",
    "\n",
    "    for element in lst:\n",
    "        if type(element) is element_type:\n",
    "            count += 1\n",
    "        else:\n",
    "            result.append(element)\n",
    "\n",
    "    result.extend([element_type] * count)\n",
    "    return result\n",
    "\n",
    "my_list = [1, 'apple', 2, 'banana', 3, 'apple', 4, 'cherry']\n",
    "result = move_elements_to_end(my_list, str)\n",
    "print(result)\n"
   ]
  },
  {
   "cell_type": "code",
   "execution_count": null,
   "metadata": {},
   "outputs": [],
   "source": []
  }
 ],
 "metadata": {
  "kernelspec": {
   "display_name": "Python 3.9.6 64-bit",
   "language": "python",
   "name": "python3"
  },
  "language_info": {
   "codemirror_mode": {
    "name": "ipython",
    "version": 3
   },
   "file_extension": ".py",
   "mimetype": "text/x-python",
   "name": "python",
   "nbconvert_exporter": "python",
   "pygments_lexer": "ipython3",
   "version": "3.9.6"
  },
  "orig_nbformat": 4,
  "vscode": {
   "interpreter": {
    "hash": "31f2aee4e71d21fbe5cf8b01ff0e069b9275f58929596ceb00d14d90e3e16cd6"
   }
  }
 },
 "nbformat": 4,
 "nbformat_minor": 2
}
